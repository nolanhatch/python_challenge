{
 "cells": [
  {
   "cell_type": "code",
   "execution_count": 1,
   "metadata": {},
   "outputs": [],
   "source": [
    "#import \n",
    "import os \n",
    "import csv"
   ]
  },
  {
   "cell_type": "code",
   "execution_count": 2,
   "metadata": {},
   "outputs": [],
   "source": [
    "budget_data = os.path.join(\"budget_data.csv\",)\n",
    "reader = csv.reader(budget_data, delimiter=\",\")"
   ]
  },
  {
   "cell_type": "code",
   "execution_count": 3,
   "metadata": {},
   "outputs": [
    {
     "name": "stdout",
     "output_type": "stream",
     "text": [
      "Financial Analysis\n",
      "_____________________\n",
      "Total Months:$86\n",
      "Total:38382578\n",
      "Average Change: $-2315.1176470588234\n",
      "Greatest Increase In Profits:['Feb-2010', '984655']\n",
      "Greatest Decrease In Profits:['Jul-2016', '-1163797']\n"
     ]
    }
   ],
   "source": [
    "# months = 0\n",
    "Total_Profit = 0 \n",
    "greatest_increase = [\"\",0]\n",
    "greatest_decrease = [\"\",99999999999]\n",
    "months= 0\n",
    "\n",
    "#row_count = sum(1 for row in fileObject)\n",
    "#set path for file\n",
    "with open(budget_data) as data:\n",
    "    reader = csv.reader(data)\n",
    "    header = next(reader)\n",
    "    row1= next(reader)\n",
    "    #print(row1)\n",
    "    #header[1]\n",
    "    months = months + 1\n",
    "    counter = row1[1]\n",
    "    Total_Profit = Total_Profit+int(counter)\n",
    "    #print(counter)\n",
    "    for row in reader:\n",
    "        months += 1\n",
    "        Total_Profit += int(row[1])\n",
    "        netchange = int(row[1])-int(counter)\n",
    "        row1 = int(row[1])\n",
    "    \n",
    "    \n",
    "        if netchange > int(greatest_increase[1]):\n",
    "            greatest_increase[0]= row[0]\n",
    "            greatest_increase[1]= row[1]\n",
    "        if netchange < int(greatest_decrease[1]):\n",
    "            greatest_decrease[0]= row[0]\n",
    "            greatest_decrease[1]= row[1]\n",
    "    avg_netchange = sum([netchange])/ (int(months)-1)\n",
    "        \n",
    "\n",
    "    \n",
    "    \n",
    "    \n",
    "   \n",
    "    \n",
    "print(\"Financial Analysis\")\n",
    "print(\"_____________________\")\n",
    "\n",
    "print(\"Total Months:$\" + str(months))\n",
    "print(\"Total:\" + str(Total_Profit))\n",
    "print(\"Average Change: $\" + str(avg_netchange))\n",
    "print(\"Greatest Increase In Profits:\" + str(greatest_increase))\n",
    "print(\"Greatest Decrease In Profits:\" + str(greatest_decrease))\n",
    "\n",
    "\n",
    "    \n",
    "\n"
   ]
  },
  {
   "cell_type": "code",
   "execution_count": 38,
   "metadata": {},
   "outputs": [
    {
     "ename": "AttributeError",
     "evalue": "'_csv.reader' object has no attribute 'next'",
     "output_type": "error",
     "traceback": [
      "\u001b[0;31m---------------------------------------------------------------------------\u001b[0m",
      "\u001b[0;31mAttributeError\u001b[0m                            Traceback (most recent call last)",
      "\u001b[0;32m<ipython-input-38-12c1b3b2e420>\u001b[0m in \u001b[0;36m<module>\u001b[0;34m()\u001b[0m\n\u001b[1;32m      2\u001b[0m \u001b[0mbudget_data\u001b[0m \u001b[0;34m=\u001b[0m \u001b[0mopen\u001b[0m\u001b[0;34m(\u001b[0m\u001b[0;34m\"budget_data.csv\"\u001b[0m\u001b[0;34m)\u001b[0m\u001b[0;34m\u001b[0m\u001b[0m\n\u001b[1;32m      3\u001b[0m \u001b[0mreader\u001b[0m \u001b[0;34m=\u001b[0m \u001b[0mcsv\u001b[0m\u001b[0;34m.\u001b[0m\u001b[0mreader\u001b[0m\u001b[0;34m(\u001b[0m\u001b[0mbudget_data\u001b[0m\u001b[0;34m,\u001b[0m \u001b[0mdelimiter\u001b[0m\u001b[0;34m=\u001b[0m\u001b[0;34m\",\"\u001b[0m\u001b[0;34m)\u001b[0m\u001b[0;34m\u001b[0m\u001b[0m\n\u001b[0;32m----> 4\u001b[0;31m \u001b[0mreader\u001b[0m\u001b[0;34m.\u001b[0m\u001b[0mnext\u001b[0m\u001b[0;34m(\u001b[0m\u001b[0;34m)\u001b[0m\u001b[0;34m\u001b[0m\u001b[0m\n\u001b[0m",
      "\u001b[0;31mAttributeError\u001b[0m: '_csv.reader' object has no attribute 'next'"
     ]
    }
   ],
   "source": [
    "#open and read csv file\n",
    "budget_data = open(\"budget_data.csv\")\n",
    "reader = csv.reader(budget_data, delimiter=\",\")\n",
    "reader.next()\n"
   ]
  },
  {
   "cell_type": "code",
   "execution_count": null,
   "metadata": {},
   "outputs": [],
   "source": []
  },
  {
   "cell_type": "code",
   "execution_count": null,
   "metadata": {},
   "outputs": [],
   "source": [
    "months = sum(1 for row in budget_data)\n",
    "months.readline()\n",
    "\n",
    "print(months)\n"
   ]
  },
  {
   "cell_type": "code",
   "execution_count": null,
   "metadata": {},
   "outputs": [],
   "source": [
    "#list total number of months\n",
    "data = list(reader)\n",
    "Total_Months = (len(months)-1)\n",
    "print(Total_Months)"
   ]
  },
  {
   "cell_type": "code",
   "execution_count": null,
   "metadata": {},
   "outputs": [],
   "source": [
    "#total net amount of profit/loss\n",
    "#with open(budget_data, newline=\"\") as csvfile:\n",
    " #   reader = csv.reader(budget_data, delimiter=\",\")\n",
    "\n",
    "    \n",
    "\n",
    "    \n",
    "    \n",
    "    "
   ]
  },
  {
   "cell_type": "code",
   "execution_count": 129,
   "metadata": {},
   "outputs": [
    {
     "name": "stdout",
     "output_type": "stream",
     "text": [
      "-1.2\n"
     ]
    }
   ],
   "source": [
    "l = ['-1.2', '0.0', '1']\n",
    "lnums = map(float, l)  # turn strings to numbers\n",
    "x = min(lnums)  # find minimum value\n",
    "print(x)"
   ]
  },
  {
   "cell_type": "code",
   "execution_count": null,
   "metadata": {},
   "outputs": [],
   "source": []
  }
 ],
 "metadata": {
  "kernelspec": {
   "display_name": "Python 3",
   "language": "python",
   "name": "python3"
  },
  "language_info": {
   "codemirror_mode": {
    "name": "ipython",
    "version": 3
   },
   "file_extension": ".py",
   "mimetype": "text/x-python",
   "name": "python",
   "nbconvert_exporter": "python",
   "pygments_lexer": "ipython3",
   "version": "3.6.5"
  }
 },
 "nbformat": 4,
 "nbformat_minor": 2
}
